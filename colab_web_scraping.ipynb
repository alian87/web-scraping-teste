{
  "nbformat": 4,
  "nbformat_minor": 0,
  "metadata": {
    "colab": {
      "name": "colab-web-scraping.ipynb",
      "provenance": [],
      "collapsed_sections": [],
      "authorship_tag": "ABX9TyMST3fDc9QfzSeTegJphCEy",
      "include_colab_link": true
    },
    "kernelspec": {
      "name": "python3",
      "display_name": "Python 3"
    },
    "language_info": {
      "name": "python"
    }
  },
  "cells": [
    {
      "cell_type": "markdown",
      "metadata": {
        "id": "view-in-github",
        "colab_type": "text"
      },
      "source": [
        "<a href=\"https://colab.research.google.com/github/alian87/web-scraping-teste/blob/main/colab_web_scraping.ipynb\" target=\"_parent\"><img src=\"https://colab.research.google.com/assets/colab-badge.svg\" alt=\"Open In Colab\"/></a>"
      ]
    },
    {
      "cell_type": "markdown",
      "source": [
        "## Nova seção"
      ],
      "metadata": {
        "id": "KxM4dEcTfKRG"
      }
    },
    {
      "cell_type": "markdown",
      "source": [
        "## Importando bibliotecas"
      ],
      "metadata": {
        "id": "VLXWtQ5JfUT1"
      }
    },
    {
      "cell_type": "code",
      "source": [
        "from bs4 import BeautifulSoup as bs\n",
        "import requests  as rq\n",
        "import re\n",
        "\n",
        "!pip install selenium\n",
        "!apt-get update # to update ubuntu to correctly run apt install\n",
        "!apt install chromium-chromedriver\n",
        "!cp /usr/lib/chromium-browser/chromedriver /usr/bin\n",
        "import sys\n",
        "sys.path.insert(0,'/usr/lib/chromium-browser/chromedriver')\n",
        "from selenium import webdriver\n",
        "chrome_options = webdriver.ChromeOptions()\n",
        "chrome_options.add_argument('--headless')\n",
        "chrome_options.add_argument('--no-sandbox')\n",
        "chrome_options.add_argument('--disable-dev-shm-usage')\n",
        "wd = webdriver.Chrome('chromedriver',chrome_options=chrome_options)\n",
        "wd.get(\"https://www.webite-url.com\")"
      ],
      "metadata": {
        "id": "IQTMPKjJdRdV",
        "colab": {
          "base_uri": "https://localhost:8080/",
          "height": 1000
        },
        "outputId": "559e8662-9f61-4029-cf9e-97aa0aea955a"
      },
      "execution_count": 72,
      "outputs": [
        {
          "output_type": "stream",
          "name": "stdout",
          "text": [
            "Collecting selenium\n",
            "  Downloading selenium-4.1.0-py3-none-any.whl (958 kB)\n",
            "\u001b[K     |████████████████████████████████| 958 kB 4.3 MB/s \n",
            "\u001b[?25hCollecting urllib3[secure]~=1.26\n",
            "  Downloading urllib3-1.26.8-py2.py3-none-any.whl (138 kB)\n",
            "\u001b[K     |████████████████████████████████| 138 kB 78.1 MB/s \n",
            "\u001b[?25hCollecting trio-websocket~=0.9\n",
            "  Downloading trio_websocket-0.9.2-py3-none-any.whl (16 kB)\n",
            "Collecting trio~=0.17\n",
            "  Downloading trio-0.19.0-py3-none-any.whl (356 kB)\n",
            "\u001b[K     |████████████████████████████████| 356 kB 45.9 MB/s \n",
            "\u001b[?25hCollecting async-generator>=1.9\n",
            "  Downloading async_generator-1.10-py3-none-any.whl (18 kB)\n",
            "Requirement already satisfied: attrs>=19.2.0 in /usr/local/lib/python3.7/dist-packages (from trio~=0.17->selenium) (21.4.0)\n",
            "Collecting sniffio\n",
            "  Downloading sniffio-1.2.0-py3-none-any.whl (10 kB)\n",
            "Requirement already satisfied: idna in /usr/local/lib/python3.7/dist-packages (from trio~=0.17->selenium) (2.10)\n",
            "Requirement already satisfied: sortedcontainers in /usr/local/lib/python3.7/dist-packages (from trio~=0.17->selenium) (2.4.0)\n",
            "Collecting outcome\n",
            "  Downloading outcome-1.1.0-py2.py3-none-any.whl (9.7 kB)\n",
            "Collecting wsproto>=0.14\n",
            "  Downloading wsproto-1.0.0-py3-none-any.whl (24 kB)\n",
            "Collecting cryptography>=1.3.4\n",
            "  Downloading cryptography-36.0.1-cp36-abi3-manylinux_2_24_x86_64.whl (3.6 MB)\n",
            "\u001b[K     |████████████████████████████████| 3.6 MB 58.0 MB/s \n",
            "\u001b[?25hCollecting pyOpenSSL>=0.14\n",
            "  Downloading pyOpenSSL-21.0.0-py2.py3-none-any.whl (55 kB)\n",
            "\u001b[K     |████████████████████████████████| 55 kB 3.3 MB/s \n",
            "\u001b[?25hRequirement already satisfied: certifi in /usr/local/lib/python3.7/dist-packages (from urllib3[secure]~=1.26->selenium) (2021.10.8)\n",
            "Requirement already satisfied: cffi>=1.12 in /usr/local/lib/python3.7/dist-packages (from cryptography>=1.3.4->urllib3[secure]~=1.26->selenium) (1.15.0)\n",
            "Requirement already satisfied: pycparser in /usr/local/lib/python3.7/dist-packages (from cffi>=1.12->cryptography>=1.3.4->urllib3[secure]~=1.26->selenium) (2.21)\n",
            "Requirement already satisfied: six>=1.5.2 in /usr/local/lib/python3.7/dist-packages (from pyOpenSSL>=0.14->urllib3[secure]~=1.26->selenium) (1.15.0)\n",
            "Collecting h11<1,>=0.9.0\n",
            "  Downloading h11-0.12.0-py3-none-any.whl (54 kB)\n",
            "\u001b[K     |████████████████████████████████| 54 kB 2.7 MB/s \n",
            "\u001b[?25hInstalling collected packages: sniffio, outcome, h11, cryptography, async-generator, wsproto, urllib3, trio, pyOpenSSL, trio-websocket, selenium\n",
            "  Attempting uninstall: urllib3\n",
            "    Found existing installation: urllib3 1.24.3\n",
            "    Uninstalling urllib3-1.24.3:\n",
            "      Successfully uninstalled urllib3-1.24.3\n",
            "\u001b[31mERROR: pip's dependency resolver does not currently take into account all the packages that are installed. This behaviour is the source of the following dependency conflicts.\n",
            "requests 2.23.0 requires urllib3!=1.25.0,!=1.25.1,<1.26,>=1.21.1, but you have urllib3 1.26.8 which is incompatible.\n",
            "datascience 0.10.6 requires folium==0.2.1, but you have folium 0.8.3 which is incompatible.\u001b[0m\n",
            "Successfully installed async-generator-1.10 cryptography-36.0.1 h11-0.12.0 outcome-1.1.0 pyOpenSSL-21.0.0 selenium-4.1.0 sniffio-1.2.0 trio-0.19.0 trio-websocket-0.9.2 urllib3-1.26.8 wsproto-1.0.0\n"
          ]
        },
        {
          "output_type": "display_data",
          "data": {
            "application/vnd.colab-display-data+json": {
              "pip_warning": {
                "packages": [
                  "urllib3"
                ]
              }
            }
          },
          "metadata": {}
        },
        {
          "output_type": "stream",
          "name": "stdout",
          "text": [
            "Get:1 https://cloud.r-project.org/bin/linux/ubuntu bionic-cran40/ InRelease [3,626 B]\n",
            "Ign:2 https://developer.download.nvidia.com/compute/cuda/repos/ubuntu1804/x86_64  InRelease\n",
            "Get:3 https://cloud.r-project.org/bin/linux/ubuntu bionic-cran40/ Packages [76.0 kB]\n",
            "Ign:4 https://developer.download.nvidia.com/compute/machine-learning/repos/ubuntu1804/x86_64  InRelease\n",
            "Get:5 https://developer.download.nvidia.com/compute/cuda/repos/ubuntu1804/x86_64  Release [696 B]\n",
            "Hit:6 https://developer.download.nvidia.com/compute/machine-learning/repos/ubuntu1804/x86_64  Release\n",
            "Get:7 https://developer.download.nvidia.com/compute/cuda/repos/ubuntu1804/x86_64  Release.gpg [836 B]\n",
            "Get:8 http://security.ubuntu.com/ubuntu bionic-security InRelease [88.7 kB]\n",
            "Get:9 http://ppa.launchpad.net/c2d4u.team/c2d4u4.0+/ubuntu bionic InRelease [15.9 kB]\n",
            "Hit:10 http://archive.ubuntu.com/ubuntu bionic InRelease\n",
            "Get:12 http://archive.ubuntu.com/ubuntu bionic-updates InRelease [88.7 kB]\n",
            "Get:13 https://developer.download.nvidia.com/compute/cuda/repos/ubuntu1804/x86_64  Packages [867 kB]\n",
            "Hit:14 http://ppa.launchpad.net/cran/libgit2/ubuntu bionic InRelease\n",
            "Get:15 http://archive.ubuntu.com/ubuntu bionic-backports InRelease [74.6 kB]\n",
            "Get:16 http://ppa.launchpad.net/deadsnakes/ppa/ubuntu bionic InRelease [15.9 kB]\n",
            "Get:17 http://security.ubuntu.com/ubuntu bionic-security/main amd64 Packages [2,498 kB]\n",
            "Get:18 http://archive.ubuntu.com/ubuntu bionic-updates/universe amd64 Packages [2,238 kB]\n",
            "Hit:19 http://ppa.launchpad.net/graphics-drivers/ppa/ubuntu bionic InRelease\n",
            "Get:20 http://ppa.launchpad.net/c2d4u.team/c2d4u4.0+/ubuntu bionic/main Sources [1,823 kB]\n",
            "Get:21 http://security.ubuntu.com/ubuntu bionic-security/universe amd64 Packages [1,459 kB]\n",
            "Get:22 http://security.ubuntu.com/ubuntu bionic-security/restricted amd64 Packages [725 kB]\n",
            "Get:23 http://archive.ubuntu.com/ubuntu bionic-updates/restricted amd64 Packages [758 kB]\n",
            "Get:24 http://archive.ubuntu.com/ubuntu bionic-updates/main amd64 Packages [2,935 kB]\n",
            "Get:25 http://ppa.launchpad.net/c2d4u.team/c2d4u4.0+/ubuntu bionic/main amd64 Packages [934 kB]\n",
            "Get:26 http://ppa.launchpad.net/deadsnakes/ppa/ubuntu bionic/main amd64 Packages [45.3 kB]\n",
            "Fetched 14.6 MB in 8s (1,932 kB/s)\n",
            "Reading package lists... Done\n",
            "Reading package lists... Done\n",
            "Building dependency tree       \n",
            "Reading state information... Done\n",
            "The following additional packages will be installed:\n",
            "  chromium-browser chromium-browser-l10n chromium-codecs-ffmpeg-extra\n",
            "Suggested packages:\n",
            "  webaccounts-chromium-extension unity-chromium-extension\n",
            "The following NEW packages will be installed:\n",
            "  chromium-browser chromium-browser-l10n chromium-chromedriver\n",
            "  chromium-codecs-ffmpeg-extra\n",
            "0 upgraded, 4 newly installed, 0 to remove and 58 not upgraded.\n",
            "Need to get 95.3 MB of archives.\n",
            "After this operation, 327 MB of additional disk space will be used.\n",
            "Get:1 http://archive.ubuntu.com/ubuntu bionic-updates/universe amd64 chromium-codecs-ffmpeg-extra amd64 97.0.4692.71-0ubuntu0.18.04.1 [1,142 kB]\n",
            "Get:2 http://archive.ubuntu.com/ubuntu bionic-updates/universe amd64 chromium-browser amd64 97.0.4692.71-0ubuntu0.18.04.1 [84.7 MB]\n",
            "Get:3 http://archive.ubuntu.com/ubuntu bionic-updates/universe amd64 chromium-browser-l10n all 97.0.4692.71-0ubuntu0.18.04.1 [4,370 kB]\n",
            "Get:4 http://archive.ubuntu.com/ubuntu bionic-updates/universe amd64 chromium-chromedriver amd64 97.0.4692.71-0ubuntu0.18.04.1 [5,055 kB]\n",
            "Fetched 95.3 MB in 11s (8,835 kB/s)\n",
            "Selecting previously unselected package chromium-codecs-ffmpeg-extra.\n",
            "(Reading database ... 155229 files and directories currently installed.)\n",
            "Preparing to unpack .../chromium-codecs-ffmpeg-extra_97.0.4692.71-0ubuntu0.18.04.1_amd64.deb ...\n",
            "Unpacking chromium-codecs-ffmpeg-extra (97.0.4692.71-0ubuntu0.18.04.1) ...\n",
            "Selecting previously unselected package chromium-browser.\n",
            "Preparing to unpack .../chromium-browser_97.0.4692.71-0ubuntu0.18.04.1_amd64.deb ...\n",
            "Unpacking chromium-browser (97.0.4692.71-0ubuntu0.18.04.1) ...\n",
            "Selecting previously unselected package chromium-browser-l10n.\n",
            "Preparing to unpack .../chromium-browser-l10n_97.0.4692.71-0ubuntu0.18.04.1_all.deb ...\n",
            "Unpacking chromium-browser-l10n (97.0.4692.71-0ubuntu0.18.04.1) ...\n",
            "Selecting previously unselected package chromium-chromedriver.\n",
            "Preparing to unpack .../chromium-chromedriver_97.0.4692.71-0ubuntu0.18.04.1_amd64.deb ...\n",
            "Unpacking chromium-chromedriver (97.0.4692.71-0ubuntu0.18.04.1) ...\n",
            "Setting up chromium-codecs-ffmpeg-extra (97.0.4692.71-0ubuntu0.18.04.1) ...\n",
            "Setting up chromium-browser (97.0.4692.71-0ubuntu0.18.04.1) ...\n",
            "update-alternatives: using /usr/bin/chromium-browser to provide /usr/bin/x-www-browser (x-www-browser) in auto mode\n",
            "update-alternatives: using /usr/bin/chromium-browser to provide /usr/bin/gnome-www-browser (gnome-www-browser) in auto mode\n",
            "Setting up chromium-chromedriver (97.0.4692.71-0ubuntu0.18.04.1) ...\n",
            "Setting up chromium-browser-l10n (97.0.4692.71-0ubuntu0.18.04.1) ...\n",
            "Processing triggers for man-db (2.8.3-2ubuntu0.1) ...\n",
            "Processing triggers for hicolor-icon-theme (0.17-2) ...\n",
            "Processing triggers for mime-support (3.60ubuntu1) ...\n",
            "Processing triggers for libc-bin (2.27-3ubuntu1.3) ...\n",
            "/sbin/ldconfig.real: /usr/local/lib/python3.7/dist-packages/ideep4py/lib/libmkldnn.so.0 is not a symbolic link\n",
            "\n",
            "cp: '/usr/lib/chromium-browser/chromedriver' and '/usr/bin/chromedriver' are the same file\n"
          ]
        },
        {
          "output_type": "stream",
          "name": "stderr",
          "text": [
            "/usr/local/lib/python3.7/dist-packages/ipykernel_launcher.py:16: DeprecationWarning: use options instead of chrome_options\n",
            "  app.launch_new_instance()\n"
          ]
        }
      ]
    },
    {
      "cell_type": "markdown",
      "source": [
        "## Pegando HTML do Site"
      ],
      "metadata": {
        "id": "wRwbBA6rfcz1"
      }
    },
    {
      "cell_type": "code",
      "source": [
        "html_completo = rq.get(\"http://webscraping.andreregino.com.br/\")\n",
        "html_formatado = bs(html_completo.content)\n",
        "print(html_formatado.prettify())\n"
      ],
      "metadata": {
        "colab": {
          "base_uri": "https://localhost:8080/"
        },
        "id": "baeJeo7Hfh3r",
        "outputId": "8811ed2b-f9f2-403c-bbfb-b074a8dfb2b7"
      },
      "execution_count": 47,
      "outputs": [
        {
          "output_type": "stream",
          "name": "stdout",
          "text": [
            "<!DOCTYPE html>\n",
            "<html lang=\"en\">\n",
            " <head>\n",
            "  <title>\n",
            "   E-book Git e GitHub - Seu Código Versionado\n",
            "  </title>\n",
            "  <!-- Meta -->\n",
            "  <meta charset=\"utf-8\"/>\n",
            "  <meta content=\"IE=edge\" http-equiv=\"X-UA-Compatible\"/>\n",
            "  <meta content=\"width=device-width, initial-scale=1.0\" name=\"viewport\"/>\n",
            "  <meta content=\"E-book Git e GitHub - Seu Código Versionado\" name=\"description\"/>\n",
            "  <meta content=\"André Gomes Regino\" name=\"author\"/>\n",
            "  <link href=\"favicon.ico\" rel=\"shortcut icon\"/>\n",
            "  <!-- Google Font -->\n",
            "  <link href=\"https://fonts.googleapis.com/css?family=Quicksand:700|Roboto:400,400i,700&amp;display=swap\" rel=\"stylesheet\"/>\n",
            "  <!-- FontAwesome JS-->\n",
            "  <script defer=\"\" src=\"assets/fontawesome/js/all.min.js\">\n",
            "  </script>\n",
            "  <!-- Theme CSS -->\n",
            "  <link href=\"assets/css/theme.css\" id=\"theme-style\" rel=\"stylesheet\"/>\n",
            " </head>\n",
            " <body>\n",
            "  <header class=\"header\">\n",
            "   <div class=\"branding\">\n",
            "    <div class=\"container-fluid position-relative py-3\">\n",
            "    </div>\n",
            "    <!--//container-->\n",
            "   </div>\n",
            "   <!--//branding-->\n",
            "  </header>\n",
            "  <!--//header-->\n",
            "  <section class=\"hero-section\">\n",
            "   <div class=\"container\">\n",
            "    <div class=\"row\">\n",
            "     <div class=\"col-12 col-md-7 pt-5 mb-5 align-self-center\">\n",
            "      <div class=\"promo pr-md-3 pr-lg-5\">\n",
            "       <h1 class=\"headline mb-3\">\n",
            "        E-book Git e GitHub\n",
            "        <br/>\n",
            "        Seu Código Versionado\n",
            "       </h1>\n",
            "       <div class=\"subheadline mb-4\">\n",
            "        Aprenda o básico de versionamento de código, sem enrolação e sem termos dificeis, usando tanto o Git quanto o Github.\n",
            "       </div>\n",
            "       <div class=\"subheadline mb-4\">\n",
            "        Cansado de cursos e livros longos que não vão direto ao ponto? \n",
            "\n",
            "\t\t\t\t\t\t\tAqui eu te ensino Git e GitHub em aproximadamente 1 hora, sem enrolação! Dá pra ler o livro todo no horário do almoço e depois ainda impressionar o chefe dizendo que aprendeu a versionar seu super código.\n",
            "       </div>\n",
            "       <div class=\"cta-holder\">\n",
            "        <a class=\"btn btn-primary mr-lg-2\" href=\"https://payment.hotmart.com/R54638781B?checkoutMode=10\">\n",
            "         Compre agora\n",
            "        </a>\n",
            "       </div>\n",
            "      </div>\n",
            "     </div>\n",
            "     <div class=\"col-12 col-md-5 mb-5 align-self-center\">\n",
            "      <div class=\"book-cover-holder\">\n",
            "       <img alt=\"book cover\" class=\"img-fluid book-cover\" src=\"assets/images/capa-ebook-git-github.png\"/>\n",
            "       <div class=\"book-badge d-inline-block shadow\">\n",
            "        Mais\n",
            "        <br/>\n",
            "        Vendido\n",
            "       </div>\n",
            "      </div>\n",
            "      <!--//book-cover-holder-->\n",
            "     </div>\n",
            "     <!--col-->\n",
            "    </div>\n",
            "    <!--//row-->\n",
            "   </div>\n",
            "   <!--//container-->\n",
            "  </section>\n",
            "  <!--//hero-section-->\n",
            "  <section class=\"for-what-git-section theme-bg-light-gradient py-5\" id=\"for-what-git-section\">\n",
            "   <div class=\"container py-5\">\n",
            "    <h2 class=\"section-heading text-center mb-3\">\n",
            "     Para que aprender Git?\n",
            "    </h2>\n",
            "    <div class=\"section-intro single-col-max mx-auto text-center mb-5\">\n",
            "     Grande parte das empresas que tem um ramo de TI, seja esta uma startup ou multinacional, versionam o código usando essas ferramentas. Imagine o cenário com 100 programadores fazendo mudança em um mesmo código. Sem um versionamento, viraria uma bagunça! O versionamento com Git veio para sanar esse tipo de situação.\n",
            "    </div>\n",
            "   </div>\n",
            "  </section>\n",
            "  <section class=\"for-what-github-section theme-bg-light-gradient py-5\" id=\"for-what-github-section\" style=\"background-color: #a82fa8; background-image: none !important\">\n",
            "   <div class=\"container py-5\">\n",
            "    <h2 class=\"section-heading text-center mb-3\">\n",
            "     Para que aprender GitHub?\n",
            "    </h2>\n",
            "    <div class=\"section-intro single-col-max mx-auto text-center mb-5\" style=\"color: white !important\">\n",
            "     O GitHub virou uma \"vitrine\" de códigos para o programador. Recrutadores das empresas olham - além do seu currículo - seu código. É através dessa vitrine que a empresa identifica como é seu estilo de programação, quais as linguagens que tem mais interesse, quais projetos open source você contribui no momento.\n",
            "    </div>\n",
            "   </div>\n",
            "  </section>\n",
            "  <section class=\"benefits-section theme-bg-light-gradient py-5\" id=\"benefits-section\">\n",
            "   <div class=\"container py-5\">\n",
            "    <h2 class=\"section-heading text-center mb-3\">\n",
            "     Quais os Benefícios deste E-book?\n",
            "    </h2>\n",
            "    <div class=\"section-intro single-col-max mx-auto text-center mb-5\">\n",
            "     Resumidamente, nesse e-book você aprenderá desde como encontrar todas as informações necessárias para \"fazer seu primeiro commit\" até em como hospedar seu precioso código na maior \"rede social de programadores\" do mundo.\n",
            "    </div>\n",
            "    <div class=\"row text-center\">\n",
            "     <div class=\"item col-12 col-md-6 col-lg-4\">\n",
            "      <div class=\"item-inner p-3 p-lg-4\">\n",
            "       <div class=\"item-header mb-3\">\n",
            "        <div class=\"item-icon\">\n",
            "         <i class=\"fas fa-laptop-code\">\n",
            "         </i>\n",
            "        </div>\n",
            "        <h3 class=\"item-heading\">\n",
            "         Praticidade na Hora do \"Mão na Massa\"\n",
            "        </h3>\n",
            "       </div>\n",
            "       <!--//item-heading-->\n",
            "       <div class=\"item-desc\">\n",
            "        Nada de tutoriais complexos. Na sua tela estará aberto o terminal do Git, o GitHub e esse e-book. Só.\n",
            "       </div>\n",
            "       <!--//item-desc-->\n",
            "      </div>\n",
            "      <!--//item-inner-->\n",
            "     </div>\n",
            "     <!--//item-->\n",
            "     <div class=\"item col-12 col-md-6 col-lg-4\">\n",
            "      <div class=\"item-inner p-3 p-lg-4\">\n",
            "       <div class=\"item-header mb-3\">\n",
            "        <div class=\"item-icon\">\n",
            "         <i class=\"fas fa-code-branch\">\n",
            "         </i>\n",
            "        </div>\n",
            "        <h3 class=\"item-heading\">\n",
            "         Aprendizado dos Principais Comandos Usados\n",
            "        </h3>\n",
            "       </div>\n",
            "       <!--//item-heading-->\n",
            "       <div class=\"item-desc\">\n",
            "        git add, commit, push, pull, blame, checkout, reset, clone, diff, log...\n",
            "       </div>\n",
            "       <!--//item-desc-->\n",
            "      </div>\n",
            "      <!--//item-inner-->\n",
            "     </div>\n",
            "     <!--//item-->\n",
            "     <div class=\"item col-12 col-md-6 col-lg-4\">\n",
            "      <div class=\"item-inner p-3 p-lg-4\">\n",
            "       <div class=\"item-header mb-3\">\n",
            "        <div class=\"item-icon\">\n",
            "         <i class=\"fab fa-js-square\">\n",
            "         </i>\n",
            "        </div>\n",
            "        <h3 class=\"item-heading\">\n",
            "         Aplicável a Qualquer Linguagem de Programação\n",
            "        </h3>\n",
            "       </div>\n",
            "       <!--//item-heading-->\n",
            "       <div class=\"item-desc\">\n",
            "        Você conseguirá versionar tudo, desde o seu site estático em HTML até o sistema enorme da sua empresa.\n",
            "       </div>\n",
            "       <!--//item-desc-->\n",
            "      </div>\n",
            "      <!--//item-inner-->\n",
            "     </div>\n",
            "     <!--//item-->\n",
            "     <div class=\"item col-12 col-md-6 col-lg-4\">\n",
            "      <div class=\"item-inner p-3 p-lg-4\">\n",
            "       <div class=\"item-header mb-3\">\n",
            "        <div class=\"item-icon\">\n",
            "         <i class=\"fab fa-rocketchat\">\n",
            "         </i>\n",
            "        </div>\n",
            "        <h3 class=\"item-heading\">\n",
            "         Dicas Valiosas de Quem tem Experiência em Versionamento\n",
            "        </h3>\n",
            "       </div>\n",
            "       <!--//item-heading-->\n",
            "       <div class=\"item-desc\">\n",
            "        Não adianta saber de cor os comandos. Neste e-book você encontrará 60 páginas de conteúdo, incluindo 09 dicas para melhorar o uso do Git no dia-a-dia.\n",
            "       </div>\n",
            "       <!--//item-desc-->\n",
            "      </div>\n",
            "      <!--//item-inner-->\n",
            "     </div>\n",
            "     <!--//item-->\n",
            "     <div class=\"item col-12 col-md-6 col-lg-4\">\n",
            "      <div class=\"item-inner p-3 p-lg-4\">\n",
            "       <div class=\"item-header mb-3\">\n",
            "        <div class=\"item-icon\">\n",
            "         <i class=\"fab fa-angular\">\n",
            "         </i>\n",
            "        </div>\n",
            "        <h3 class=\"item-heading\">\n",
            "         Clone de Repositórios Famosos\n",
            "        </h3>\n",
            "       </div>\n",
            "       <!--//item-heading-->\n",
            "       <div class=\"item-desc\">\n",
            "        Você aprenderá como clonar projetos open-source famosos na sua máquina, como o Laravel.\n",
            "       </div>\n",
            "       <!--//item-desc-->\n",
            "      </div>\n",
            "      <!--//item-inner-->\n",
            "     </div>\n",
            "     <!--//item-->\n",
            "     <div class=\"item col-12 col-md-6 col-lg-4\">\n",
            "      <div class=\"item-inner p-3 p-lg-4\">\n",
            "       <div class=\"item-header mb-3\">\n",
            "        <div class=\"item-icon\">\n",
            "         <i class=\"fas fa-hand-holding-usd\">\n",
            "         </i>\n",
            "        </div>\n",
            "        <h3 class=\"item-heading\">\n",
            "         Diferencial na Entrevista de Emprego\n",
            "        </h3>\n",
            "       </div>\n",
            "       <!--//item-heading-->\n",
            "       <div class=\"item-desc\">\n",
            "        Já percebeu que toda vaga de desenvolvimento/programação hoje em dia pede como obrigatório o Git?\n",
            "       </div>\n",
            "       <!--//item-desc-->\n",
            "      </div>\n",
            "      <!--//item-inner-->\n",
            "     </div>\n",
            "     <!--//item-->\n",
            "    </div>\n",
            "    <!--//row-->\n",
            "   </div>\n",
            "   <!--//container-->\n",
            "  </section>\n",
            "  <!--//benefits-section-->\n",
            "  <section class=\"content-section\" id=\"content-section\">\n",
            "   <div class=\"container\">\n",
            "    <div class=\"single-col-max mx-auto\">\n",
            "     <h2 class=\"section-heading text-center mb-5\">\n",
            "      Quais os Tópicos?\n",
            "     </h2>\n",
            "     <div class=\"row\">\n",
            "      <div class=\"col-12 col-md-8\">\n",
            "       <div class=\"figure-holder mb-5\">\n",
            "        <img alt=\"image\" class=\"img-fluid\" src=\"assets/images/devices.png\"/>\n",
            "       </div>\n",
            "       <!--//figure-holder-->\n",
            "      </div>\n",
            "      <!--//col-->\n",
            "      <div class=\"col-12 col-md-4 mb-5\">\n",
            "       <div class=\"key-points mb-4 text-center\">\n",
            "        <ul class=\"key-points-list list-unstyled mb-4 mx-auto d-inline-block text-left\">\n",
            "         <li>\n",
            "          <i class=\"fas fa-check-circle mr-2\">\n",
            "          </i>\n",
            "          Instalação do Git e Criação de Conta no GitHub\n",
            "         </li>\n",
            "         <li>\n",
            "          <i class=\"fas fa-check-circle mr-2\">\n",
            "          </i>\n",
            "          Adicionar, Excluir e Listar  Modificações de Código\n",
            "         </li>\n",
            "         <li>\n",
            "          <i class=\"fas fa-check-circle mr-2\">\n",
            "          </i>\n",
            "          Receber, Enviar, Verificar e Resetar Modificações de Código\n",
            "         </li>\n",
            "         <li>\n",
            "          <i class=\"fas fa-check-circle mr-2\">\n",
            "          </i>\n",
            "          Lidar com Conflitos e Clonar Projetos Públicos\n",
            "         </li>\n",
            "        </ul>\n",
            "        <div class=\"text-center\">\n",
            "         <a class=\"btn btn-primary\" href=\"https://payment.hotmart.com/R54638781B?checkoutMode=10\">\n",
            "          Eu quero esse livro\n",
            "         </a>\n",
            "        </div>\n",
            "       </div>\n",
            "       <!--//key-points-->\n",
            "      </div>\n",
            "      <!--//col-12-->\n",
            "     </div>\n",
            "     <!--//row-->\n",
            "    </div>\n",
            "    <!--//single-col-max-->\n",
            "   </div>\n",
            "   <!--//container-->\n",
            "  </section>\n",
            "  <!--//content-section-->\n",
            "  <section class=\"content-section\" id=\"´topics-section\">\n",
            "   <div class=\"container\">\n",
            "    <div class=\"\">\n",
            "     <h2 class=\"section-heading text-center mb-5\">\n",
            "      Quais os Tópicos?\n",
            "     </h2>\n",
            "     <div class=\"row\">\n",
            "      <div class=\"col-12 col-md-6\">\n",
            "       <div class=\"figure-holder mb-5\">\n",
            "        <img alt=\"image\" class=\"img-fluid\" src=\"assets/images/sumario.png\"/>\n",
            "       </div>\n",
            "       <!--//figure-holder-->\n",
            "      </div>\n",
            "      <!--//col-->\n",
            "      <div class=\"col-12 col-md-6\">\n",
            "       <div class=\"figure-holder mb-5\">\n",
            "        <img alt=\"image\" class=\"img-fluid\" src=\"assets/images/carta-ao-leitor.png\"/>\n",
            "       </div>\n",
            "       <!--//figure-holder-->\n",
            "      </div>\n",
            "      <!--//col-->\n",
            "     </div>\n",
            "     <!--//row-->\n",
            "    </div>\n",
            "    <!--//single-col-max-->\n",
            "   </div>\n",
            "   <!--//container-->\n",
            "  </section>\n",
            "  <!--//content-section-->\n",
            "  <section class=\"audience-section py-5\" id=\"audience-section\">\n",
            "   <div class=\"container\">\n",
            "    <h2 class=\"section-heading text-center mb-4\">\n",
            "     Para Quem é Esse Livro\n",
            "    </h2>\n",
            "    <div class=\"section-intro single-col-max mx-auto text-center mb-5\">\n",
            "    </div>\n",
            "    <!--//section-intro-->\n",
            "    <div class=\"audience mx-auto\">\n",
            "     <div class=\"item media\">\n",
            "      <div class=\"item-icon mr-3\">\n",
            "       <i class=\"fas fa-user-check\">\n",
            "       </i>\n",
            "      </div>\n",
            "      <div class=\"media-body\">\n",
            "       <h4 class=\"item-title\">\n",
            "        Programadores Iniciantes\n",
            "       </h4>\n",
            "       <div class=\"item-desc\">\n",
            "       </div>\n",
            "      </div>\n",
            "      <!--//media-body-->\n",
            "     </div>\n",
            "     <!--//item-->\n",
            "     <div class=\"item media\">\n",
            "      <div class=\"item-icon mr-3\">\n",
            "       <i class=\"fas fa-user-check\">\n",
            "       </i>\n",
            "      </div>\n",
            "      <div class=\"media-body\">\n",
            "       <h4 class=\"item-title\">\n",
            "        Estudantes de Ciência da Computação\n",
            "       </h4>\n",
            "      </div>\n",
            "      <!--//media-body-->\n",
            "     </div>\n",
            "     <!--//item-->\n",
            "     <div class=\"item media\">\n",
            "      <div class=\"item-icon mr-3\">\n",
            "       <i class=\"fas fa-user-check\">\n",
            "       </i>\n",
            "      </div>\n",
            "      <div class=\"media-body\">\n",
            "       <h4 class=\"item-title\">\n",
            "        Interessados em Contribuir em Códigos Open Source\n",
            "       </h4>\n",
            "       <div class=\"item-desc\">\n",
            "       </div>\n",
            "      </div>\n",
            "      <!--//media-body-->\n",
            "     </div>\n",
            "     <!--//item-->\n",
            "     <div class=\"item media\">\n",
            "      <div class=\"item-icon mr-3\">\n",
            "       <i class=\"fas fa-user-check\">\n",
            "       </i>\n",
            "      </div>\n",
            "      <div class=\"media-body\">\n",
            "       <h4 class=\"item-title\">\n",
            "        Curiosos\n",
            "       </h4>\n",
            "       <div class=\"item-desc\">\n",
            "        Está aí de bobeira? Bora ocupar seu tempo com conhecimento.\n",
            "       </div>\n",
            "      </div>\n",
            "      <!--//media-body-->\n",
            "     </div>\n",
            "     <!--//item-->\n",
            "     <div class=\"item media\">\n",
            "      <div class=\"item-icon mr-3\" style=\"color:red\">\n",
            "       <i class=\"fas fa-user-times\">\n",
            "       </i>\n",
            "      </div>\n",
            "      <div class=\"media-body\">\n",
            "       <h4 class=\"item-title\">\n",
            "        Programadores que dominam o GitHub, GitLab, BitBucket, etc\n",
            "       </h4>\n",
            "       <div class=\"item-desc\">\n",
            "       </div>\n",
            "      </div>\n",
            "      <!--//media-body-->\n",
            "     </div>\n",
            "     <!--//item-->\n",
            "     <div class=\"item media\">\n",
            "      <div class=\"item-icon mr-3\" style=\"color:red\">\n",
            "       <i class=\"fas fa-user-times\">\n",
            "       </i>\n",
            "      </div>\n",
            "      <div class=\"media-body\">\n",
            "       <h4 class=\"item-title\">\n",
            "        Programadores plenos e seniores\n",
            "       </h4>\n",
            "       <div class=\"item-desc\">\n",
            "        Já tem que saber o  mínimo de Git e GitHub!\n",
            "       </div>\n",
            "      </div>\n",
            "      <!--//media-body-->\n",
            "     </div>\n",
            "     <!--//item-->\n",
            "    </div>\n",
            "    <!--//audience-->\n",
            "   </div>\n",
            "   <!--//container-->\n",
            "  </section>\n",
            "  <!--//audience-section-->\n",
            "  <section class=\"pre-requisite-section\" id=\"pre-requisite-section\">\n",
            "   <div class=\"container\">\n",
            "    <div class=\"lead-form-wrapper single-col-max mx-auto theme-bg-light rounded p-5\">\n",
            "     <h2 class=\"form-heading text-center\">\n",
            "      Quais os Pré Requisitos\n",
            "     </h2>\n",
            "     <div class=\"form-intro text-center mb-3\">\n",
            "      Nenhum, somente sua vontade de aprender.\n",
            "     </div>\n",
            "    </div>\n",
            "    <!--//lead-form-wrapper-->\n",
            "   </div>\n",
            "   <!--//container-->\n",
            "  </section>\n",
            "  <!--//form-section-->\n",
            "  <section class=\"reviews-section py-5\" id=\"reviews-section\">\n",
            "   <div class=\"container\">\n",
            "    <h2 class=\"section-heading text-center\">\n",
            "     Reviews\n",
            "    </h2>\n",
            "    <div class=\"section-intro text-center single-col-max mx-auto mb-5\">\n",
            "     Veja o que os leitores estão achando deste livro.\n",
            "    </div>\n",
            "    <div class=\"row justify-content-center\">\n",
            "     <div class=\"item col-12 col-lg-4 p-3 mb-4\">\n",
            "      <div class=\"item-inner theme-bg-light rounded p-4\">\n",
            "       <blockquote class=\"quote\">\n",
            "        \"E-book rápido e dinâmico. Perfeito para quem não conhece a ferramenta e deseja dar os primeiros passos.\"\n",
            "       </blockquote>\n",
            "       <!--//item-->\n",
            "       <div class=\"source media flex-column flex-md-row align-items-center\">\n",
            "        <img alt=\"image\" class=\"source-profile mr-md-3\" src=\"assets/images/profiles/marcelo_dantas.jpg\" style=\"    border-radius: 50%;\"/>\n",
            "        <div class=\"source-info media-body text-center text-md-left\">\n",
            "         <div class=\"source-name\">\n",
            "          Marcelo Dantas\n",
            "         </div>\n",
            "         <div class=\"soure-title\">\n",
            "          Leitor do e-book\n",
            "         </div>\n",
            "        </div>\n",
            "       </div>\n",
            "       <!--//source-->\n",
            "       <div class=\"icon-holder\">\n",
            "        <i class=\"fas fa-quote-right\">\n",
            "        </i>\n",
            "       </div>\n",
            "      </div>\n",
            "      <!--//inner-->\n",
            "     </div>\n",
            "     <!--//item-->\n",
            "     <div class=\"item col-12 col-lg-4 p-3 mb-4\">\n",
            "      <div class=\"item-inner theme-bg-light rounded p-4\">\n",
            "       <blockquote class=\"quote\">\n",
            "        \"Ótimo livro! O autor aborda de maneira simples e didática os principais conceitos sobre Git e GitHub.\"\n",
            "       </blockquote>\n",
            "       <!--//item-->\n",
            "       <div class=\"source media flex-column flex-md-row align-items-center\">\n",
            "        <img alt=\"image\" class=\"source-profile mr-md-3\" src=\"assets/images/profiles/enio_monteiro.png\"/>\n",
            "        <div class=\"source-info media-body text-center text-md-left\">\n",
            "         <div class=\"source-name\">\n",
            "          Ênio Monteiro\n",
            "         </div>\n",
            "         <div class=\"soure-title\">\n",
            "          Leitor do e-book\n",
            "         </div>\n",
            "        </div>\n",
            "       </div>\n",
            "       <!--//source-->\n",
            "       <div class=\"icon-holder\">\n",
            "        <i class=\"fas fa-quote-right\">\n",
            "        </i>\n",
            "       </div>\n",
            "      </div>\n",
            "      <!--//inner-->\n",
            "     </div>\n",
            "     <!--//item-->\n",
            "     <div class=\"item col-12 col-lg-4 p-3 mb-4\">\n",
            "      <div class=\"item-inner theme-bg-light rounded p-4\">\n",
            "       <blockquote class=\"quote\">\n",
            "        \"Uma didática excelente, facilitando muito o aprendizado das pessoas, um dos melhores livros de Git e Github que eu já li.\"\n",
            "       </blockquote>\n",
            "       <!--//item-->\n",
            "       <div class=\"source media flex-column flex-md-row align-items-center\">\n",
            "        <img alt=\"image\" class=\"source-profile mr-md-3\" src=\"assets/images/profiles/felipe_arjol.png\"/>\n",
            "        <div class=\"source-info media-body text-center text-md-left\">\n",
            "         <div class=\"source-name\">\n",
            "          Felipe Arjol\n",
            "         </div>\n",
            "         <div class=\"soure-title\">\n",
            "          Leitor do e-book\n",
            "         </div>\n",
            "        </div>\n",
            "       </div>\n",
            "       <!--//source-->\n",
            "       <div class=\"icon-holder\">\n",
            "        <i class=\"fas fa-quote-right\">\n",
            "        </i>\n",
            "       </div>\n",
            "      </div>\n",
            "      <!--//inner-->\n",
            "     </div>\n",
            "     <!--//item-->\n",
            "    </div>\n",
            "    <!--//row-->\n",
            "    <div class=\"text-center\">\n",
            "     <a class=\"btn btn-primary\" href=\"https://payment.hotmart.com/R54638781B?checkoutMode=10\">\n",
            "      Adquira Sua Cópia Hoje\n",
            "     </a>\n",
            "    </div>\n",
            "   </div>\n",
            "   <!--//container-->\n",
            "  </section>\n",
            "  <!--//reviews-section-->\n",
            "  <section class=\"author-section section theme-bg-primary py-5\" id=\"author-section\">\n",
            "   <div class=\"container py-3\">\n",
            "    <div class=\"author-profile text-center mb-5\">\n",
            "     <img alt=\"image\" class=\"author-pic\" src=\"assets/images/profiles/perfil_andre.jpg\" style=\"    border-radius: 50%\"/>\n",
            "    </div>\n",
            "    <!--//author-profile-->\n",
            "    <h2 class=\"section-heading text-center text-white mb-3\">\n",
            "     Sobre o Autor\n",
            "    </h2>\n",
            "    <div class=\"author-bio single-col-max mx-auto\">\n",
            "     <p>\n",
            "      Prazer. Meu nome é André e já me sinto muito feliz pelo seu interesse neste e-book sobre Git e GitHub, um dos e-books da série de programação para iniciante. Nele, reuno todo o conhecimento necessário que você precisa ter sobre essas ferramentas, bem como experiências valiosas que passei no mercado de trabalho, na pesquisa acadêmica e nas aulas como professor.\n",
            "     </p>\n",
            "     <p>\n",
            "      Sou bacharel em Ciência da Computação pela Unesp e técnico em Programação de Computadores pela ETEC. Me especializei em Consultoria Web pela FATEC, área onde o Git e o GitHub se destacam. Conclui minha carreira acadêmica tornando-me mestre em Ciência da Computação pela Unicamp (em plena pandemia, um grande desafio!).\n",
            "     </p>\n",
            "     <p>\n",
            "      Possuo 10 anos de experiência em desenvolvimento de software. Dentre minhas experiências cabe citar a criação e manutenção de softwares destes segmentos:\n",
            "     </p>\n",
            "     <ul>\n",
            "      <li>\n",
            "       Consultoria Financeira\n",
            "      </li>\n",
            "      <li>\n",
            "       E-commerce\n",
            "      </li>\n",
            "      <li>\n",
            "       ERP\n",
            "      </li>\n",
            "     </ul>\n",
            "     <p>\n",
            "      Você pode encontrar mais informações sobre mim no\n",
            "      <a href=\"http://andreregino.com.br\" style=\"color: white; text-decoration: underline;\" target=\"_blank\">\n",
            "       meu site\n",
            "      </a>\n",
            "      .\n",
            "     </p>\n",
            "     <div class=\"text-center\">\n",
            "      <a class=\"btn btn-primary\" href=\"https://payment.hotmart.com/R54638781B?checkoutMode=10\" style=\"background: green !important;\">\n",
            "       Quero Aprender Git e GitHub\n",
            "      </a>\n",
            "     </div>\n",
            "    </div>\n",
            "    <!--//author-bio-->\n",
            "   </div>\n",
            "   <!--//container-->\n",
            "  </section>\n",
            "  <!--//author-section-->\n",
            "  <section class=\"price py-5\">\n",
            "   <div class=\"container\">\n",
            "    <h2 class=\"section-heading text-center mb-5\">\n",
            "     Investimento\n",
            "    </h2>\n",
            "    <div class=\"card-deck mb-3 text-center d-flex justify-content-center\">\n",
            "     <div class=\"col-12 col-md-4 col-lg-4 card mb-4 box-shadow\">\n",
            "      <div class=\"card-header\">\n",
            "       <h4 class=\"my-0 font-weight-normal\">\n",
            "        Promoção\n",
            "       </h4>\n",
            "      </div>\n",
            "      <div class=\"card-body\">\n",
            "       <h3 style=\"color:red\">\n",
            "        <s>\n",
            "         de R$89,90\n",
            "        </s>\n",
            "       </h3>\n",
            "       <h4>\n",
            "        por\n",
            "       </h4>\n",
            "       <h1 class=\"card-title pricing-card-title\">\n",
            "        <small class=\"text-muted\">\n",
            "         4x de\n",
            "        </small>\n",
            "        <span style=\"color: green\">\n",
            "         R$9,90\n",
            "        </span>\n",
            "       </h1>\n",
            "       <ul class=\"list-unstyled mt-3 mb-4\">\n",
            "        <li>\n",
            "         R$1,00 por dia de investimento!\n",
            "        </li>\n",
            "        <li>\n",
            "         60 páginas de conteúdo\n",
            "        </li>\n",
            "        <li>\n",
            "         Segurança na compra\n",
            "        </li>\n",
            "        <li>\n",
            "         Comprou, chegou\n",
            "        </li>\n",
            "        <li>\n",
            "         7 dias de garantia\n",
            "        </li>\n",
            "       </ul>\n",
            "       <div class=\"text-center\">\n",
            "        <a class=\"btn btn-primary\" href=\"https://payment.hotmart.com/R54638781B?checkoutMode=10\" style=\"background: green !important;\">\n",
            "         Quero Aprender Git e GitHub\n",
            "        </a>\n",
            "       </div>\n",
            "      </div>\n",
            "     </div>\n",
            "    </div>\n",
            "   </div>\n",
            "  </section>\n",
            "  <!-- Javascript -->\n",
            "  <script src=\"assets/plugins/jquery-3.4.1.min.js\">\n",
            "  </script>\n",
            "  <script src=\"assets/plugins/popper.min.js\">\n",
            "  </script>\n",
            "  <script src=\"assets/plugins/bootstrap/js/bootstrap.min.js\">\n",
            "  </script>\n",
            "  <script src=\"assets/plugins/jquery.scrollTo.min.js\">\n",
            "  </script>\n",
            "  <script src=\"assets/plugins/back-to-top.js\">\n",
            "  </script>\n",
            "  <script src=\"assets/js/main.js\">\n",
            "  </script>\n",
            " </body>\n",
            "</html>\n",
            "\n"
          ]
        }
      ]
    },
    {
      "cell_type": "code",
      "source": [
        "primeiro_h2 = html_formatado.find(\"h2\").text\n",
        "print(primeiro_h2)"
      ],
      "metadata": {
        "colab": {
          "base_uri": "https://localhost:8080/"
        },
        "id": "y3Ji6zo8jCbu",
        "outputId": "51d9ed02-8a45-4007-b3b2-208c3cb74c27"
      },
      "execution_count": null,
      "outputs": [
        {
          "output_type": "stream",
          "name": "stdout",
          "text": [
            "Para que aprender Git?\n"
          ]
        }
      ]
    },
    {
      "cell_type": "code",
      "execution_count": null,
      "metadata": {
        "colab": {
          "base_uri": "https://localhost:8080/"
        },
        "id": "dcEv5j4CdOKj",
        "outputId": "b63c855a-01b2-4e15-b126-9e9b3d31b1fb"
      },
      "outputs": [
        {
          "output_type": "stream",
          "name": "stdout",
          "text": [
            "\n",
            "\t\t\t\t\t\t    E-book Git e GitHubSeu Código Versionado\n",
            "\t\t\t\t\t    \n",
            "Para que aprender Git?\n",
            "Para que aprender GitHub?\n",
            "Quais os Benefícios deste E-book?\n",
            "Quais os Tópicos?\n",
            "Quais os Tópicos?\n",
            "Para Quem é Esse Livro\n",
            "Quais os Pré Requisitos\n",
            "Reviews\n",
            "Sobre o Autor\n",
            "Investimento\n",
            "4x de R$9,90\n"
          ]
        }
      ],
      "source": [
        "todas_ocorrencias_h2 = html_formatado.find_all([\"h2\", \"h1\"])\n",
        "for ocorrencia_h2 in todas_ocorrencias_h2:\n",
        "  print(ocorrencia_h2.text)"
      ]
    },
    {
      "cell_type": "code",
      "source": [
        ""
      ],
      "metadata": {
        "id": "fXLdI2ewjmWu"
      },
      "execution_count": null,
      "outputs": []
    },
    {
      "cell_type": "markdown",
      "source": [
        "## Pegando Conteúdo usando Classes e IDs"
      ],
      "metadata": {
        "id": "hgtUzfVylBme"
      }
    },
    {
      "cell_type": "code",
      "source": [
        "preco = html_formatado.find_all(\"h1\", class_=\"card-title pricing-card-title\")\n",
        "print(preco)\n",
        "pre_requisito = html_formatado.find(id=\"pre-requisite-section\")\n",
        "print(pre_requisito)"
      ],
      "metadata": {
        "colab": {
          "base_uri": "https://localhost:8080/"
        },
        "id": "qGf8pb-wlGyQ",
        "outputId": "85318f3d-757e-4dae-e2fe-7988a513f6e3"
      },
      "execution_count": null,
      "outputs": [
        {
          "output_type": "stream",
          "name": "stdout",
          "text": [
            "[<h1 class=\"card-title pricing-card-title\"><small class=\"text-muted\">4x de </small><span style=\"color: green\">R$9,90</span></h1>]\n",
            "<section class=\"pre-requisite-section\" id=\"pre-requisite-section\">\n",
            "<div class=\"container\">\n",
            "<div class=\"lead-form-wrapper single-col-max mx-auto theme-bg-light rounded p-5\">\n",
            "<h2 class=\"form-heading text-center\">Quais os Pré Requisitos</h2>\n",
            "<div class=\"form-intro text-center mb-3\">Nenhum, somente sua vontade de aprender.</div>\n",
            "</div><!--//lead-form-wrapper-->\n",
            "</div><!--//container-->\n",
            "</section>\n"
          ]
        }
      ]
    },
    {
      "cell_type": "markdown",
      "source": [
        "## Pegando conteudo com filtro de texto"
      ],
      "metadata": {
        "id": "WFVOnqh6me1u"
      }
    },
    {
      "cell_type": "code",
      "source": [
        "todas_ocorrencias_h2 = html_formatado.find_all([\"h2\", \"h1\"], text=re.compile(\"Para que aprender\"))\n",
        "for ocorrencia_h2 in todas_ocorrencias_h2:\n",
        "  print(ocorrencia_h2.text)"
      ],
      "metadata": {
        "colab": {
          "base_uri": "https://localhost:8080/"
        },
        "id": "AWfc6p5jmixm",
        "outputId": "07bee8d6-def7-4796-e2ac-096881db1e9f"
      },
      "execution_count": null,
      "outputs": [
        {
          "output_type": "stream",
          "name": "stdout",
          "text": [
            "Para que aprender Git?\n",
            "Para que aprender GitHub?\n"
          ]
        }
      ]
    },
    {
      "cell_type": "code",
      "source": [
        "botao =  html_formatado.find(class_=\"price\").a\n",
        "print(botao['href'])"
      ],
      "metadata": {
        "colab": {
          "base_uri": "https://localhost:8080/"
        },
        "id": "605j--gpAAQx",
        "outputId": "63f5a979-6e93-4c35-b05f-2748ec2d1b2a"
      },
      "execution_count": null,
      "outputs": [
        {
          "output_type": "stream",
          "name": "stdout",
          "text": [
            "https://payment.hotmart.com/R54638781B?checkoutMode=10\n"
          ]
        }
      ]
    },
    {
      "cell_type": "code",
      "source": [
        "imagem = html_formatado.find(\"img\")\n",
        "print(imagem['src'])"
      ],
      "metadata": {
        "colab": {
          "base_uri": "https://localhost:8080/"
        },
        "id": "xp0S8xs9A_Oy",
        "outputId": "27a4e6fc-a8b8-4641-aa6d-757c0ca9c35d"
      },
      "execution_count": null,
      "outputs": [
        {
          "output_type": "stream",
          "name": "stdout",
          "text": [
            "assets/images/capa-ebook-git-github.png\n"
          ]
        }
      ]
    },
    {
      "cell_type": "code",
      "source": [
        "elemento_da_lista = html_formatado.find(\"section\", class_=\"content-section\").ul.li\n",
        "print(elemento_da_lista)"
      ],
      "metadata": {
        "colab": {
          "base_uri": "https://localhost:8080/"
        },
        "id": "9r4LZZeODlP8",
        "outputId": "20b9b810-535d-45ce-f715-1a6262933e0d"
      },
      "execution_count": null,
      "outputs": [
        {
          "output_type": "stream",
          "name": "stdout",
          "text": [
            "<li><i class=\"fas fa-check-circle mr-2\"></i>Instalação do Git e Criação de Conta no GitHub</li>\n"
          ]
        }
      ]
    },
    {
      "cell_type": "code",
      "source": [
        "quarto_elemento_lista = html_formatado.select(\".content-section ul li:nth-of-type(4)\")\n",
        "print(quarto_elemento_lista)"
      ],
      "metadata": {
        "colab": {
          "base_uri": "https://localhost:8080/"
        },
        "id": "5U1c7tZaFLRB",
        "outputId": "8c3219ea-7c68-4a55-e118-b3347992c336"
      },
      "execution_count": 45,
      "outputs": [
        {
          "output_type": "stream",
          "name": "stdout",
          "text": [
            "[<li><i class=\"fas fa-check-circle mr-2\"></i>Lidar com Conflitos e Clonar Projetos Públicos</li>]\n"
          ]
        }
      ]
    },
    {
      "cell_type": "markdown",
      "source": [
        "## Coletando dados da Amazon"
      ],
      "metadata": {
        "id": "oEUwsjV-ZYnD"
      }
    },
    {
      "cell_type": "code",
      "source": [
        "HEADERS = ({'User-Agent':'Mozilla/5.0 (X11; Linux x86_64)  AppleWebKit/537.36 (KHTML, like Gecko) Chrome/44.0.2403.157 Safari/537.36','Accept-Language': 'en-US, en;q=0.5'})\n",
        "projeto_amazon = rq.get(\"https://www.amazon.com/SanDisk-128GB-MicroSDXC-Memory-Adapter/dp/B08GYKNCCP/\", headers=HEADERS)\n",
        "amazon = bs(projeto_amazon.content)"
      ],
      "metadata": {
        "id": "n5KKnBA6Zdyk"
      },
      "execution_count": 53,
      "outputs": []
    },
    {
      "cell_type": "code",
      "source": [
        "produto = amazon.find(id=\"productTitle\").text.strip()\n",
        "preco_anterior = amazon.find(class_=\"a-text-price\").getText().strip()\n",
        "preco_final = amazon.find(class_=\"a-offscreen\").getText().strip()\n",
        "avaliacao = amazon.find(\"i\", class_=\"a-star-5\").getText()\n",
        "categorias = amazon.find(id=\"wayfinding-breadcrumbs_container\").getText().strip().replace(\"\\n\", \"\")\n",
        "disponibilidade = amazon.find(id=\"availability\").text.strip()\n",
        "\n",
        "print(\"Nome do produto:\", produto)\n",
        "print(\"Valor antes do desconto $\",preco_anterior.split(\"$\")[1])\n",
        "print(\"Valor final\", preco_final)\n",
        "print(\"Avaliação\", avaliacao)\n",
        "print(\"Categorias\", categorias)\n",
        "print(\"Disponibilidade\", disponibilidade)\n",
        "\n",
        "preco_final = float(preco_final[1:])\n",
        "if disponibilidade == 'In Stock.' and preco_final < 18:\n",
        "  print(\"Está barato!!\")"
      ],
      "metadata": {
        "colab": {
          "base_uri": "https://localhost:8080/"
        },
        "id": "NNS1ocfkermU",
        "outputId": "6afd438b-e7ea-44c4-f74a-1088f3a6bc40"
      },
      "execution_count": 71,
      "outputs": [
        {
          "output_type": "stream",
          "name": "stdout",
          "text": [
            "Nome do produto: SanDisk 128GB Ultra MicroSDXC UHS-I Memory Card with Adapter - 120MB/s, C10, U1, Full HD, A1, Micro SD Card - SDSQUA4-128G-GN6MA\n",
            "Valor antes do desconto $ 24.99\n",
            "Valor final $17.43\n",
            "Avaliação 4.8 out of 5 stars\n",
            "Categorias Electronics                         ›                         Computers & Accessories                         ›                         Computer Accessories & Peripherals                         ›                         Memory Cards                         ›                          Micro SD Cards\n",
            "Disponibilidade In Stock.\n",
            "Está barato!!\n"
          ]
        }
      ]
    },
    {
      "cell_type": "markdown",
      "source": [
        "## Recuperando dados com Selenium"
      ],
      "metadata": {
        "id": "bXT_0UTDotyF"
      }
    },
    {
      "cell_type": "code",
      "source": [
        "url = \"https://covid.saude.gov.br/\"\n",
        "wd.get(url)\n",
        "\n",
        "csv = wd.find_element_by_xpath(\"/html/body/app-root/ion-app/ion-router-outlet/app-home/ion-content/div[1]/div[2]/ion-button\")\n",
        "csv.click()"
      ],
      "metadata": {
        "colab": {
          "base_uri": "https://localhost:8080/"
        },
        "id": "IWAfd660oyvs",
        "outputId": "3ddadc5b-be3e-43f2-9cd1-6b259fe12313"
      },
      "execution_count": 76,
      "outputs": [
        {
          "output_type": "stream",
          "name": "stderr",
          "text": [
            "/usr/local/lib/python3.7/dist-packages/ipykernel_launcher.py:4: DeprecationWarning: find_element_by_* commands are deprecated. Please use find_element() instead\n",
            "  after removing the cwd from sys.path.\n"
          ]
        }
      ]
    }
  ]
}